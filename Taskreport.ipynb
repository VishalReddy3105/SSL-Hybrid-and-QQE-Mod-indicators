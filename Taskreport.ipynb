{
 "cells": [
  {
   "attachments": {},
   "cell_type": "markdown",
   "metadata": {},
   "source": [
    "## RoniAnalytics Assessment Task"
   ]
  },
  {
   "attachments": {},
   "cell_type": "markdown",
   "metadata": {},
   "source": [
    "Fetched the data using psycopg2 by connecting to the server and downloaded it in csv format"
   ]
  },
  {
   "cell_type": "code",
   "execution_count": null,
   "metadata": {},
   "outputs": [],
   "source": [
    "import psycopg2\n",
    "import io\n",
    "import csv\n",
    "import requests\n",
    "from psycopg2 import sql\n",
    "\n",
    "host = 'ethreum-rds.cluster-crwz9eu9x7fl.ap-south-1.rds.amazonaws.com'\n",
    "database = 'dev'\n",
    "username = 'price_data_read_user'\n",
    "password = 'B9c1UNF62jjZ'\n",
    "\n",
    "conn = psycopg2.connect(\n",
    "    host=host,\n",
    "    database=database,\n",
    "    user=username,\n",
    "    password=password\n",
    ")\n",
    "\n",
    "# total rows = 65252874\n",
    "query = \"SELECT * FROM {table} LIMIT 7000 OFFSET 0;\"\n",
    "\n",
    "cursor=conn.cursor()\n",
    "cursor.execute(\n",
    "    sql.SQL(query)\n",
    "    .format(table=sql.Identifier('btcusdt-ochlv')))\n",
    "col_names =[desc[0] for desc in cursor.description]\n",
    "\n",
    "with open('dataminute.csv',mode='w',newline='') as file:\n",
    "    writer = csv.writer(file)\n",
    "    writer.writerow(col_names)\n",
    "\n",
    "with open('dataminute.csv',mode='a',newline='') as file:\n",
    "    writer = csv.writer(file)\n",
    "    for row in cursor.fetchall():\n",
    "        writer.writerow(row)\n",
    "cursor.close()\n",
    "conn.close()"
   ]
  },
  {
   "attachments": {},
   "cell_type": "markdown",
   "metadata": {},
   "source": [
    "## Implemented SSL Hybrid Indicator using Plotly\n"
   ]
  },
  {
   "cell_type": "code",
   "execution_count": null,
   "metadata": {},
   "outputs": [],
   "source": [
    "import pandas as pd\n",
    "import numpy as np\n",
    "import plotly.offline as pyo\n",
    "from ta.trend import MACD\n",
    "from ta.momentum import RSIIndicator\n",
    "from ta.volatility import BollingerBands\n",
    "import talib\n",
    "import ta\n",
    "import plotly.graph_objs as go\n",
    "import plotly.subplots as sp"
   ]
  },
  {
   "attachments": {},
   "cell_type": "markdown",
   "metadata": {},
   "source": [
    "All these libraries help in providing useful functions inorder to implement the indicators, plot the charts and reading the dataset"
   ]
  },
  {
   "cell_type": "code",
   "execution_count": null,
   "metadata": {},
   "outputs": [],
   "source": [
    "# Load data from CSV file\n",
    "df = pd.read_csv('./datamin.csv')"
   ]
  },
  {
   "attachments": {},
   "cell_type": "markdown",
   "metadata": {},
   "source": [
    "The line loads the data from CSV file named 'datamin.csv' using pandas and stores it in a pandas Dataframe named 'df'."
   ]
  },
  {
   "cell_type": "code",
   "execution_count": null,
   "metadata": {},
   "outputs": [],
   "source": [
    "df['RSI'] = ta.momentum.RSIIndicator(df['Close'], window=14).rsi()"
   ]
  },
  {
   "attachments": {},
   "cell_type": "markdown",
   "metadata": {},
   "source": [
    "This line adds a new column called 'RSI' to the DataFrame df containing the Relative Strength Index (RSI) indicator computed using the ta.momentum.RSIIndicator function with a window size of 14."
   ]
  },
  {
   "cell_type": "code",
   "execution_count": null,
   "metadata": {},
   "outputs": [],
   "source": [
    "df['RSI'] = ta.momentum.RSIIndicator(df['Close'], window=14).rsi()"
   ]
  },
  {
   "cell_type": "code",
   "execution_count": null,
   "metadata": {},
   "outputs": [],
   "source": [
    "period = 10\n",
    "p2=5\n",
    "dev=2"
   ]
  },
  {
   "attachments": {},
   "cell_type": "markdown",
   "metadata": {},
   "source": [
    "we are calculating the upper and lower SuperTrend values using the High, Low, and Close prices of the DataFrame df. The ssl_u and ssl_d values are calculated using the following formulas:\n",
    "\n",
    "Upper SuperTrend (ssl_u) = (High + Low) / 2 + dev * sqrt((High - Low)^ 2 / period)\n",
    "\n",
    "Lower SuperTrend (ssl_d) = (High + Low) / 2 - dev * sqrt((High - Low)^ 2 / period)\n",
    "\n",
    "Here, np.sqrt () that calculates the squareroot of the argument passed to it.\n"
   ]
  },
  {
   "cell_type": "markdown",
   "metadata": {},
   "source": []
  },
  {
   "cell_type": "code",
   "execution_count": null,
   "metadata": {},
   "outputs": [],
   "source": [
    "ssl_u = (df['High'] + df['Low']) / 2 + dev * np.sqrt((df['High'] - df['Low']) ** 2 / period)\n",
    "ssl_d = (df['High'] + df['Low']) / 2 - dev * np.sqrt((df['High'] - df['Low']) ** 2 / period)"
   ]
  },
  {
   "attachments": {},
   "cell_type": "markdown",
   "metadata": {},
   "source": [
    "we are calculating the Hilbert Transform - Instantaneous Trendline for both the upper and lower SuperTrend values using the talib.HT_TRENDLINE() function from the ta-lib library. The ssl_up and ssl_down values are stored as the output of the talib.HT_TRENDLINE() function."
   ]
  },
  {
   "cell_type": "code",
   "execution_count": null,
   "metadata": {},
   "outputs": [],
   "source": [
    "ssl_up = talib.HT_TRENDLINE(ssl_u)\n",
    "ssl_down = talib.HT_TRENDLINE(ssl_d)"
   ]
  },
  {
   "attachments": {},
   "cell_type": "markdown",
   "metadata": {},
   "source": [
    "we are calculating the Exponential Moving Average (EMA) of the Close prices of the DataFrame df. The talib.EMA() function from the ta-lib library is used for this calculation, and we pass the timeperiod argument as period (which we assigned the value 10 to earlier)."
   ]
  },
  {
   "cell_type": "code",
   "execution_count": null,
   "metadata": {},
   "outputs": [],
   "source": [
    "ema = talib.EMA(df['Close'], timeperiod=period)"
   ]
  },
  {
   "attachments": {},
   "cell_type": "markdown",
   "metadata": {},
   "source": [
    "In these lines of code, we are calculating the SuperTrend Fast and SuperTrend Slow values.\n",
    "First, we calculate the difference between ssl_up and ssl_down, which gives us the oscillator value. Next, we calculate the EMA of the oscillator value using the talib.EMA() function and store it in ssl_first. Finally, we calculate the EMA of ssl_fast to get the SuperTrend Slow value and store it in ssl_slow."
   ]
  },
  {
   "cell_type": "code",
   "execution_count": null,
   "metadata": {},
   "outputs": [],
   "source": [
    "oscillator = ssl_up - ssl_down\n",
    "ssl_fast = talib.EMA(oscillator, timeperiod=period)\n",
    "ssl_slow = talib.EMA(ssl_fast, timeperiod=period)"
   ]
  },
  {
   "attachments": {},
   "cell_type": "markdown",
   "metadata": {},
   "source": [
    "we are creating a new column in df called ssl_hybrid, which is populated with the values 1 or 0 based on a condition. If ssl_fast is greater than ssl_slow, then the corresponding value in ssl_hybrid is set to 1; otherwise, it is set to 0. The np.where() function from the NumPy library is used to perform this operation."
   ]
  },
  {
   "cell_type": "code",
   "execution_count": null,
   "metadata": {},
   "outputs": [],
   "source": [
    "ssl_hybrid = np.where(ssl_fast > ssl_slow, 1, 0)"
   ]
  },
  {
   "attachments": {},
   "cell_type": "markdown",
   "metadata": {},
   "source": [
    "Here we set bollinger_period to 20 which means that the moving average will be calculated based on the last 20 periods, bollinger deviation is set to 2 which is the number of standard deviations from the moving average that will be used to calculate the Upper and lower bands\n",
    "\n",
    "The BollingerBands class from ta library is used to calculate the upper and lower bands based on the given parameters. The BollingerBands class takes in the closing prices stock as input, along with the window and window_dev parameters\n",
    "\n",
    "Finally, the upper and lower bands are added to the original dataframe using the bollinger_hband() and bollinger_lband() methods from the BollingerBands object, respectively. The resulting upper and lower bands are added to the dataframe as new columns named bb_hband and bb_lband respectively."
   ]
  },
  {
   "cell_type": "code",
   "execution_count": null,
   "metadata": {},
   "outputs": [],
   "source": [
    "# Set the Bollinger Bands parameters\n",
    "bollinger_period = 20\n",
    "bollinger_deviation = 2\n",
    "\n",
    "# Calculate the Bollinger Bands using the BollingerBands class from ta library\n",
    "bb = BollingerBands(df['Close'], window=bollinger_period, window_dev=bollinger_deviation)\n",
    "\n",
    "# Add the upper and lower bands to the DataFrame\n",
    "df['bb_hband']= bb.bollinger_hband()\n",
    "df['bb_lband']= bb.bollinger_lband()"
   ]
  },
  {
   "attachments": {},
   "cell_type": "markdown",
   "metadata": {},
   "source": [
    "The next part calculates the Moving Average Convergence Divergence (MACD) and its corresponding signal line and histogram.\n",
    "\n",
    "Calculate the 26-period exponential moving average (EMA) and the 12-period EMA of the closing price using the pandas ewm() function. The span parameter in the function specifies the number of time periods to use for calculating the EMA."
   ]
  },
  {
   "cell_type": "code",
   "execution_count": null,
   "metadata": {},
   "outputs": [],
   "source": [
    "df['26 EMA'] = df['Close'].ewm(span=26).mean()\n",
    "df['12 EMA'] = df['Close'].ewm(span=12).mean()"
   ]
  },
  {
   "attachments": {},
   "cell_type": "markdown",
   "metadata": {},
   "source": [
    "Calculate the MACD line by subtracting the 26-period EMA from the 12-period EMA."
   ]
  },
  {
   "cell_type": "code",
   "execution_count": null,
   "metadata": {},
   "outputs": [],
   "source": [
    "df['MACD'] = df['12 EMA'] - df['26 EMA']"
   ]
  },
  {
   "attachments": {},
   "cell_type": "markdown",
   "metadata": {},
   "source": [
    "Calculate the signal line, which is a 9-period EMA of the MACD line."
   ]
  },
  {
   "cell_type": "code",
   "execution_count": null,
   "metadata": {},
   "outputs": [],
   "source": [
    "df['Signal Line'] = df['MACD'].ewm(span=9).mean()"
   ]
  },
  {
   "attachments": {},
   "cell_type": "markdown",
   "metadata": {},
   "source": [
    "Calculate the MACD histogram, which is the difference between the MACD line and the signal line."
   ]
  },
  {
   "cell_type": "code",
   "execution_count": null,
   "metadata": {},
   "outputs": [],
   "source": [
    "df['MACD Histogram'] = df['MACD'] - df['Signal Line']"
   ]
  },
  {
   "attachments": {},
   "cell_type": "markdown",
   "metadata": {},
   "source": [
    "The resulting values for the MACD, signal line, and MACD histogram are added as new columns to the DataFrame df."
   ]
  },
  {
   "attachments": {},
   "cell_type": "markdown",
   "metadata": {},
   "source": [
    "We first set the period for the Relative Strength Index (RSI) to 14.\n",
    "Then, we calculate the RSI values for the Close column of the df DataFrame using the RSIIndicator class from the ta library.\n",
    "We add the RSI values to a new column named rsi in the df DataFrame."
   ]
  },
  {
   "cell_type": "code",
   "execution_count": null,
   "metadata": {},
   "outputs": [],
   "source": [
    "rsi_period = 14\n",
    "rsi= RSIIndicator(df['Close'], rsi_period)\n",
    "df['rsi']=rsi.rsi()"
   ]
  },
  {
   "attachments": {},
   "cell_type": "markdown",
   "metadata": {},
   "source": [
    "We add column named sign.\n",
    "We use the loc function to filter the rows of the df DataFrame where the RSI value is less than 30, the close price is below the lower Bollinger Band, and the MACD value is greater than the Signal Line. We set the value of the sign column in these rows to 1.\n",
    "We use the loc function again to filter the rows of the df DataFrame where the RSI value is less than 30, the close price is below the lower Bollinger Band, and the MACD value is less than the Signal Line. We set the value of the sign column in these rows to -1.\n"
   ]
  },
  {
   "cell_type": "code",
   "execution_count": null,
   "metadata": {},
   "outputs": [],
   "source": [
    "df.loc[(df['rsi'] < 30) & (df['Close'] < df['bb_lband']) & (df['MACD'] > df['Signal Line'])  ,'sign']= 1\n",
    "df.loc[(df['rsi'] < 30) & (df['Close'] < df['bb_lband']) & (df['MACD'] < df['Signal Line']) ,'sign']= -1"
   ]
  },
  {
   "attachments": {},
   "cell_type": "markdown",
   "metadata": {},
   "source": [
    "Creating 2 new dataframes named buy_signals and sell_signals. buy_signals contains the rows from df where the value of the sign column is equal to 1. sell_signals contains the rows from df where the value of the sign column is equal to -1."
   ]
  },
  {
   "cell_type": "code",
   "execution_count": null,
   "metadata": {},
   "outputs": [],
   "source": [
    "buy_signals = df[df['sign'] == 1]\n",
    "sell_signals = df[df['sign'] == -1]"
   ]
  },
  {
   "attachments": {},
   "cell_type": "markdown",
   "metadata": {},
   "source": [
    "create candlestick chart with SSL up and down traces, and buy and sell arrow signals. This is done by creating four traces. go.Candlestick creates a candlestick chart, while go.Scatter creates lines for the SSL up and down traces. We pass the necessary data to the traces using the x and y parameters."
   ]
  },
  {
   "cell_type": "code",
   "execution_count": null,
   "metadata": {},
   "outputs": [],
   "source": [
    "candle = go.Candlestick(x=df.index, open=df['Open'], high=df['High'], low=df['Low'], close=df['Close'], name='Candlestick')\n",
    "ssl_up_trace = go.Scatter(x=df.index, y=ssl_up, mode='lines', line=dict(color='blue'), name='SSL Up')\n",
    "ssl_down_trace = go.Scatter(x=df.index, y=ssl_down, mode='lines', line=dict(color='red'), name='SSL Down')"
   ]
  },
  {
   "attachments": {},
   "cell_type": "markdown",
   "metadata": {},
   "source": [
    "In a similar way we create bb_upper and bb_lower plots"
   ]
  },
  {
   "cell_type": "code",
   "execution_count": null,
   "metadata": {},
   "outputs": [],
   "source": [
    "bb_upper = go.Scatter(x=df.index, y=df['bb_hband'], name='BB Upper', line=dict(color='#ccc', width=1, dash='dot'))\n",
    "bb_lower = go.Scatter(x=df.index, y=df['bb_lband'], name='BB Lower', line=dict(color='#ccc', width=1, dash='dot'))"
   ]
  },
  {
   "attachments": {},
   "cell_type": "markdown",
   "metadata": {},
   "source": [
    "we then add all of these traces to a list called data and append the list with Bollinger Bands Upper and Lower traces "
   ]
  },
  {
   "cell_type": "code",
   "execution_count": null,
   "metadata": {},
   "outputs": [],
   "source": [
    "data = [candle, ssl_up_trace, ssl_down_trace]\n",
    "\n",
    "data.append(bb_lower)\n",
    "data.append(bb_upper)"
   ]
  },
  {
   "attachments": {},
   "cell_type": "markdown",
   "metadata": {},
   "source": [
    "This code creates a bar chart object using plotly.graph_objs for the volume with the following arguments:\n",
    "X: the x-axis values, which are the index of the dataframe (date and time)\n",
    "y: the values of the volume\n",
    "name: the name of the volume, which is 'volume'"
   ]
  },
  {
   "cell_type": "code",
   "execution_count": null,
   "metadata": {},
   "outputs": [],
   "source": [
    "volume = go.Bar(x=df['datetime'], y=df['Volume'], name='Volume')"
   ]
  },
  {
   "attachments": {},
   "cell_type": "markdown",
   "metadata": {},
   "source": [
    "a subplot object is created with 3 rows and 1 column, where 'shared_xaxes=True' specifies that all subplots share the same x-axis, and 'vertical_spacing=0.05' adds a small vertical spacing between the subplots.  "
   ]
  },
  {
   "cell_type": "code",
   "execution_count": null,
   "metadata": {},
   "outputs": [],
   "source": [
    "fig = sp.make_subplots(rows=3, cols=1, shared_xaxes=True, vertical_spacing=0.05)"
   ]
  },
  {
   "attachments": {},
   "cell_type": "markdown",
   "metadata": {},
   "source": [
    "the candlestick chart, SSL up and down traces, and Bollinger Bands are added to the first row of the subplot"
   ]
  },
  {
   "cell_type": "code",
   "execution_count": null,
   "metadata": {},
   "outputs": [],
   "source": [
    "fig.add_traces(data, rows=1, cols=1)"
   ]
  },
  {
   "attachments": {},
   "cell_type": "markdown",
   "metadata": {},
   "source": [
    " the volume bars are added to the third row of the subplot."
   ]
  },
  {
   "cell_type": "code",
   "execution_count": null,
   "metadata": {},
   "outputs": [],
   "source": [
    "fig.add_trace(volume, row=3, col=1)"
   ]
  },
  {
   "attachments": {},
   "cell_type": "markdown",
   "metadata": {},
   "source": [
    "a scatter plot with yellow upward triangles is added to mark the buy signals."
   ]
  },
  {
   "cell_type": "code",
   "execution_count": null,
   "metadata": {},
   "outputs": [],
   "source": [
    "fig.add_trace(go.Scatter(x=buy_signals.index, y=buy_signals['Close'], mode='markers', marker=dict(symbol='triangle-up', size=10, color='yellow'), name='Buy'))"
   ]
  },
  {
   "attachments": {},
   "cell_type": "markdown",
   "metadata": {},
   "source": [
    "a scatter plot with black downward triangles is added to mark the sell signals."
   ]
  },
  {
   "cell_type": "code",
   "execution_count": null,
   "metadata": {},
   "outputs": [],
   "source": [
    "fig.add_trace(go.Scatter(x=sell_signals.index, y=sell_signals['Close'], mode='markers', marker=dict(symbol='triangle-down', size=10, color='black'), name='Sell'))"
   ]
  },
  {
   "attachments": {},
   "cell_type": "markdown",
   "metadata": {},
   "source": [
    "a line plot of the MACD values is added to the second row of the subplot."
   ]
  },
  {
   "cell_type": "code",
   "execution_count": null,
   "metadata": {},
   "outputs": [],
   "source": [
    "fig.add_trace(go.Scatter(x=df['datetime'], y=df['MACD'], mode='lines', name='MACD'), row=2, col=1)"
   ]
  },
  {
   "attachments": {},
   "cell_type": "markdown",
   "metadata": {},
   "source": [
    "a line plot of the signal line values is added to the second row of the subplot."
   ]
  },
  {
   "cell_type": "code",
   "execution_count": null,
   "metadata": {},
   "outputs": [],
   "source": [
    "fig.add_trace(go.Scatter(x=df['datetime'], y=df['Signal Line'], mode='lines', name='Signal Line'), row=2, col=1)"
   ]
  },
  {
   "attachments": {},
   "cell_type": "markdown",
   "metadata": {},
   "source": [
    "a bar chart of the MACD histogram is added to the second row of the subplot."
   ]
  },
  {
   "cell_type": "code",
   "execution_count": null,
   "metadata": {},
   "outputs": [],
   "source": [
    "fig.add_trace(go.Bar(x=df['datetime'], y=df['MACD Histogram'], name='MACD Histogram'), row=2, col=1)"
   ]
  },
  {
   "attachments": {},
   "cell_type": "markdown",
   "metadata": {},
   "source": [
    "the layout of the subplot is updated by setting xaxis_rangeslider_visible=False to remove the x-axis range slider and height=600 to set the height of the subplot to 600 pixels."
   ]
  },
  {
   "cell_type": "code",
   "execution_count": null,
   "metadata": {},
   "outputs": [],
   "source": [
    "fig.update_layout(xaxis_rangeslider_visible=False, height=600)"
   ]
  },
  {
   "attachments": {},
   "cell_type": "markdown",
   "metadata": {},
   "source": [
    "Below line saves the plot created using Plotly as an HTML file names SSL-Hybrid.html "
   ]
  },
  {
   "cell_type": "code",
   "execution_count": null,
   "metadata": {},
   "outputs": [],
   "source": [
    "fig.write_html(\"./SSL-Hybrid.html\")"
   ]
  },
  {
   "attachments": {},
   "cell_type": "markdown",
   "metadata": {},
   "source": [
    "The show() function displays the plot"
   ]
  },
  {
   "cell_type": "code",
   "execution_count": null,
   "metadata": {},
   "outputs": [],
   "source": [
    "fig.show()"
   ]
  },
  {
   "attachments": {},
   "cell_type": "markdown",
   "metadata": {},
   "source": [
    "# QQE-Mod Indicator Implementation"
   ]
  },
  {
   "attachments": {},
   "cell_type": "markdown",
   "metadata": {},
   "source": [
    "The period of the exponential moving averages (EMAs) and RSI is set to 14 and then the EMA of bitcoin price data is calculated and stored in a new column named \"EMA\" using ewm function"
   ]
  },
  {
   "cell_type": "code",
   "execution_count": null,
   "metadata": {},
   "outputs": [],
   "source": [
    "period=14\n",
    "df['EMA'] = df['Close'].ewm(span=period).mean()"
   ]
  },
  {
   "attachments": {},
   "cell_type": "markdown",
   "metadata": {},
   "source": [
    "And then the RSI of Bitcoin price data is calculated and stored in a new column named \"RSI\". The delta between each day's closing price and the previous day's closing price is calculated using the diff function. The gains and losses are then calculated using the where function, and the rolling averages are calculated using the rolling function. "
   ]
  },
  {
   "cell_type": "code",
   "execution_count": null,
   "metadata": {},
   "outputs": [],
   "source": [
    "delta = df['Close'].diff()\n",
    "gain = delta.where(delta > 0, 0)\n",
    "loss = -delta.where(delta < 0, 0)\n",
    "avg_gain = gain.rolling(period).mean()\n",
    "avg_loss = loss.rolling(period).mean()\n",
    "rs = avg_gain / avg_loss\n",
    "df['RSI'] = 100 - (100 / (1 + rs))"
   ]
  },
  {
   "attachments": {},
   "cell_type": "markdown",
   "metadata": {},
   "source": [
    "The MACD and signal line are calculated and stored in new columns named \"MACD\" and \"Signal\", respectively, using the ewm function."
   ]
  },
  {
   "cell_type": "code",
   "execution_count": null,
   "metadata": {},
   "outputs": [],
   "source": [
    "exp1 = df['Close'].ewm(span=12, adjust=False).mean()\n",
    "exp2 = df['Close'].ewm(span=26, adjust=False).mean()\n",
    "df['MACD'] = exp1 - exp2\n",
    "df['Signal'] = df['MACD'].ewm(span=9, adjust=False).mean()"
   ]
  },
  {
   "attachments": {},
   "cell_type": "markdown",
   "metadata": {},
   "source": [
    "The smoothed RSI (sRSI) is calculated by applying an EMA to the RSI values."
   ]
  },
  {
   "cell_type": "code",
   "execution_count": null,
   "metadata": {},
   "outputs": [],
   "source": [
    "df['sRSI'] = df['RSI'].ewm(span=period).mean()"
   ]
  },
  {
   "attachments": {},
   "cell_type": "markdown",
   "metadata": {},
   "source": [
    "The QQE indicator is calculated by applying an EMA to the difference between the MACD and Signal values, and multiplying it by the sRSI."
   ]
  },
  {
   "cell_type": "code",
   "execution_count": null,
   "metadata": {},
   "outputs": [],
   "source": [
    "df['MACD_diff'] = df['MACD'] - df['Signal']\n",
    "df['QQE'] = df['sRSI'] * df['MACD_diff'].ewm(span=period).mean()"
   ]
  },
  {
   "attachments": {},
   "cell_type": "markdown",
   "metadata": {},
   "source": [
    "The QQE Mod indicator is calculated by applying an EMA to the QQE values."
   ]
  },
  {
   "cell_type": "code",
   "execution_count": null,
   "metadata": {},
   "outputs": [],
   "source": [
    "df['QQE_Mod'] = df['QQE'].ewm(span=period).mean()"
   ]
  },
  {
   "attachments": {},
   "cell_type": "markdown",
   "metadata": {},
   "source": [
    "Creating a new column in the DataFrame called \"Trend\", which contains the trend direction for each data point. It iterates over the QQE Mod indicator values in the DataFrame and compares each value to the previous value to determine the trend direction. If the current value is greater than the previous value and greater than zero, it is considered bullish and appended to the trend list as \"Bullish\". If the current value is less than the previous value and less than zero, it is considered bearish and appended to the trend list as \"Bearish\". Otherwise, it is considered consolidating and appended to the trend list as \"Consolidating\". The first value in the trend list is inserted as \"Consolidating\" to ensure that the length of the trend list matches the length of the DataFrame."
   ]
  },
  {
   "cell_type": "code",
   "execution_count": null,
   "metadata": {},
   "outputs": [],
   "source": [
    "trend = []\n",
    "for i in range(1, len(df)):\n",
    "    if df['QQE_Mod'][i] > df['QQE_Mod'][i-1] and df['QQE_Mod'][i] > 0:\n",
    "        trend.append('Bullish')\n",
    "    elif df['QQE_Mod'][i] < df['QQE_Mod'][i-1] and df['QQE_Mod'][i] < 0:\n",
    "        trend.append('Bearish')\n",
    "    else:\n",
    "        trend.append('Consolidating')\n",
    "trend.insert(0, 'Consolidating')\n",
    "df['Trend'] = trend"
   ]
  },
  {
   "attachments": {},
   "cell_type": "markdown",
   "metadata": {},
   "source": [
    "This code filters out any data points where the QQE Mod indicator is equal to zero"
   ]
  },
  {
   "attachments": {},
   "cell_type": "markdown",
   "metadata": {},
   "source": [
    "df = df[df['QQE_Mod'] != 0]"
   ]
  },
  {
   "attachments": {},
   "cell_type": "markdown",
   "metadata": {},
   "source": [
    "creating a color-coded bar chart using Plotly to visualize the QQE Mod indicator for Bitcoin price. It creates a list of colors based on the trend direction and QQE Mod values in the DataFrame. If the trend is bearish and the QQE Mod value is less than zero, the color is set to red. If the trend is consolidating, the color is set to gray. If the trend is bullish or the QQE Mod value is greater than or equal to zero, the color is set to green. It then creates a Figure object with a bar chart using the QQE Mod values and the color list. It sets the marker line width to zero to remove the border around the bars. It updates the layout with a title and axis labels. Finally, it writes the chart to an HTML file and displays the chart"
   ]
  },
  {
   "cell_type": "code",
   "execution_count": null,
   "metadata": {},
   "outputs": [],
   "source": [
    "colors = ['red' if trend == 'Bearish' and QQE_Mod < 0 else 'gray' if trend == 'Consolidating' else 'green' for trend, QQE_Mod in zip(df['Trend'], df['QQE_Mod'])]\n",
    "fig = go.Figure(data=[go.Bar(x=df.index, y=df['QQE_Mod'], marker={'color': colors}, hovertemplate='<b>QQE Mod:</b> %{y:.2f}<extra></extra>')])\n",
    "fig.update_traces(selector=dict(type='bar'), marker_line_width=0)\n",
    "fig.update_layout(title='QQE Mod Indicator for Bitcoin Price', xaxis_title='Date', yaxis_title='QQE Mod', yaxis_tickformat='.2f')\n",
    "fig.write_html(\"./QQE-Mod.html\")\n",
    "fig.show()"
   ]
  },
  {
   "attachments": {},
   "cell_type": "markdown",
   "metadata": {},
   "source": [
    "## Trading strategy for SSL Hybrid Indicator "
   ]
  },
  {
   "attachments": {},
   "cell_type": "markdown",
   "metadata": {},
   "source": [
    "SSL Hybrid indicator is calculated using the high and low prices of the instrument over a certain period. In this case, the period is set to 10 and the deviation factor is set to 2. The SSL Hybrid indicator is made up of an oscillator made from the SSL indicator and two Exponential Moving Averages (EMA). The oscillator is found by taking the difference between the SSL up trendline and the SSL down trendline. If the fast EMA is higher than the slow EMA, it sends a buy signal, and if the fast EMA is lower than the slow EMA, it sends a sell signal.\n",
    "\n",
    "Among the other indicators used in the implementation are:\n",
    "Bollinger Bands: These are made by taking the closing price of the instrument and figuring out where the price is too high or too low.\n",
    "MACD, which stands for Moving Average Convergence Divergence, is a momentum indicator that shows the relationship between two moving averages of the price of an instrument.\n",
    "RSI (Relative Strength Index): This is a momentum indicator that looks at how much prices have changed recently to see if the instrument is overbought or oversold."
   ]
  },
  {
   "attachments": {},
   "cell_type": "markdown",
   "metadata": {},
   "source": [
    "## Trading strategy implementation for QQE-Mod Indicator"
   ]
  },
  {
   "attachments": {},
   "cell_type": "markdown",
   "metadata": {},
   "source": [
    "Used the closing price for a timeperiod = 14 to figure out the exponential moving average (EMA) of the bitcoin price and then calculated the relative strength index (RSI)) of the bitcoin price using the closing price for the considered period. The RSI is a momentum oscillator that measures how quickly prices move and how they change and then by using the closing price for two different periods to figure out the moving average convergence divergence (MACD) and the signal line and then calculated the smoothed RSI (sRSI) by applying an EMA to the RSI values. And then applied an exponential moving average to the difference between MACD and signal values and then multiplied that number by the sRSI this will gives us the QQE-Mod Indicator. Calculated the QQE Mod indicator by applying an EMA to the QQE values and compared the current and previous QQE Mod values to figure out the direction and strength of the trend. If the current value is higher than the last value and the difference is positive is called a bullish trend. If the current value is less than the previous value and is negative then the trend is considered as bearish. If the current value is neither greater nor less than the previous value and is not equal to 0, the trend is considered as consolidating. And then filtered out the data points where QQQE Mod indicator is zero and made color-coded bar chart to see the QQE Mod indicator and the direction of the trend using Plotly "
   ]
  }
 ],
 "metadata": {
  "language_info": {
   "name": "python"
  },
  "orig_nbformat": 4
 },
 "nbformat": 4,
 "nbformat_minor": 2
}
